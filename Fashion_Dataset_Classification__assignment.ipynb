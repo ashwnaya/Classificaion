{
  "nbformat": 4,
  "nbformat_minor": 0,
  "metadata": {
    "colab": {
      "name": " Fashion Dataset Classification _assignment.ipynb",
      "provenance": []
    },
    "kernelspec": {
      "name": "python3",
      "display_name": "Python 3"
    }
  },
  "cells": [
    {
      "cell_type": "markdown",
      "metadata": {
        "id": "it5tLAhw44AC"
      },
      "source": [
        "## Import Libraries"
      ]
    },
    {
      "cell_type": "code",
      "metadata": {
        "id": "AXP11hZS3Ubv"
      },
      "source": [
        ""
      ],
      "execution_count": null,
      "outputs": []
    },
    {
      "cell_type": "code",
      "metadata": {
        "id": "3gR5Zuv82Yp1"
      },
      "source": [
        "import tensorflow as tf\n",
        "from tensorflow import keras\n",
        "import pandas as pd\n",
        "import matplotlib.pyplot as plt\n",
        "import numpy as np"
      ],
      "execution_count": null,
      "outputs": []
    },
    {
      "cell_type": "markdown",
      "metadata": {
        "id": "M4ipQHaNjeKA"
      },
      "source": [
        "## Get Data"
      ]
    },
    {
      "cell_type": "code",
      "metadata": {
        "id": "Rmi5pZ1Vg7PU",
        "outputId": "52d00f4e-f025-44de-fe98-79c536e5d706",
        "colab": {
          "base_uri": "https://localhost:8080/",
          "height": 173
        }
      },
      "source": [
        "fashion_df = keras.datasets.fashion_mnist\n",
        "( X_train , y_train ), ( X_test , y_test ) = fashion_df.load_data ()\n",
        "\n",
        "X_train.shape , y_train.shape , X_test.shape , y_test.shape"
      ],
      "execution_count": null,
      "outputs": [
        {
          "output_type": "stream",
          "text": [
            "Downloading data from https://storage.googleapis.com/tensorflow/tf-keras-datasets/train-labels-idx1-ubyte.gz\n",
            "32768/29515 [=================================] - 0s 0us/step\n",
            "Downloading data from https://storage.googleapis.com/tensorflow/tf-keras-datasets/train-images-idx3-ubyte.gz\n",
            "26427392/26421880 [==============================] - 0s 0us/step\n",
            "Downloading data from https://storage.googleapis.com/tensorflow/tf-keras-datasets/t10k-labels-idx1-ubyte.gz\n",
            "8192/5148 [===============================================] - 0s 0us/step\n",
            "Downloading data from https://storage.googleapis.com/tensorflow/tf-keras-datasets/t10k-images-idx3-ubyte.gz\n",
            "4423680/4422102 [==============================] - 0s 0us/step\n"
          ],
          "name": "stdout"
        },
        {
          "output_type": "execute_result",
          "data": {
            "text/plain": [
              "((60000, 28, 28), (60000,), (10000, 28, 28), (10000,))"
            ]
          },
          "metadata": {
            "tags": []
          },
          "execution_count": 2
        }
      ]
    },
    {
      "cell_type": "code",
      "metadata": {
        "id": "88KFGRcrWHdc",
        "outputId": "92907df2-3552-4236-9897-174eee1ea311",
        "colab": {
          "base_uri": "https://localhost:8080/",
          "height": 1000
        }
      },
      "source": [
        "print(fashion_df.load_data ())"
      ],
      "execution_count": null,
      "outputs": [
        {
          "output_type": "stream",
          "text": [
            "((array([[[0, 0, 0, ..., 0, 0, 0],\n",
            "        [0, 0, 0, ..., 0, 0, 0],\n",
            "        [0, 0, 0, ..., 0, 0, 0],\n",
            "        ...,\n",
            "        [0, 0, 0, ..., 0, 0, 0],\n",
            "        [0, 0, 0, ..., 0, 0, 0],\n",
            "        [0, 0, 0, ..., 0, 0, 0]],\n",
            "\n",
            "       [[0, 0, 0, ..., 0, 0, 0],\n",
            "        [0, 0, 0, ..., 0, 0, 0],\n",
            "        [0, 0, 0, ..., 0, 0, 0],\n",
            "        ...,\n",
            "        [0, 0, 0, ..., 0, 0, 0],\n",
            "        [0, 0, 0, ..., 0, 0, 0],\n",
            "        [0, 0, 0, ..., 0, 0, 0]],\n",
            "\n",
            "       [[0, 0, 0, ..., 0, 0, 0],\n",
            "        [0, 0, 0, ..., 0, 0, 0],\n",
            "        [0, 0, 0, ..., 0, 0, 0],\n",
            "        ...,\n",
            "        [0, 0, 0, ..., 0, 0, 0],\n",
            "        [0, 0, 0, ..., 0, 0, 0],\n",
            "        [0, 0, 0, ..., 0, 0, 0]],\n",
            "\n",
            "       ...,\n",
            "\n",
            "       [[0, 0, 0, ..., 0, 0, 0],\n",
            "        [0, 0, 0, ..., 0, 0, 0],\n",
            "        [0, 0, 0, ..., 0, 0, 0],\n",
            "        ...,\n",
            "        [0, 0, 0, ..., 0, 0, 0],\n",
            "        [0, 0, 0, ..., 0, 0, 0],\n",
            "        [0, 0, 0, ..., 0, 0, 0]],\n",
            "\n",
            "       [[0, 0, 0, ..., 0, 0, 0],\n",
            "        [0, 0, 0, ..., 0, 0, 0],\n",
            "        [0, 0, 0, ..., 0, 0, 0],\n",
            "        ...,\n",
            "        [0, 0, 0, ..., 0, 0, 0],\n",
            "        [0, 0, 0, ..., 0, 0, 0],\n",
            "        [0, 0, 0, ..., 0, 0, 0]],\n",
            "\n",
            "       [[0, 0, 0, ..., 0, 0, 0],\n",
            "        [0, 0, 0, ..., 0, 0, 0],\n",
            "        [0, 0, 0, ..., 0, 0, 0],\n",
            "        ...,\n",
            "        [0, 0, 0, ..., 0, 0, 0],\n",
            "        [0, 0, 0, ..., 0, 0, 0],\n",
            "        [0, 0, 0, ..., 0, 0, 0]]], dtype=uint8), array([9, 0, 0, ..., 3, 0, 5], dtype=uint8)), (array([[[0, 0, 0, ..., 0, 0, 0],\n",
            "        [0, 0, 0, ..., 0, 0, 0],\n",
            "        [0, 0, 0, ..., 0, 0, 0],\n",
            "        ...,\n",
            "        [0, 0, 0, ..., 0, 0, 0],\n",
            "        [0, 0, 0, ..., 0, 0, 0],\n",
            "        [0, 0, 0, ..., 0, 0, 0]],\n",
            "\n",
            "       [[0, 0, 0, ..., 0, 0, 0],\n",
            "        [0, 0, 0, ..., 0, 0, 0],\n",
            "        [0, 0, 0, ..., 0, 0, 0],\n",
            "        ...,\n",
            "        [0, 0, 0, ..., 0, 0, 0],\n",
            "        [0, 0, 0, ..., 0, 0, 0],\n",
            "        [0, 0, 0, ..., 0, 0, 0]],\n",
            "\n",
            "       [[0, 0, 0, ..., 0, 0, 0],\n",
            "        [0, 0, 0, ..., 0, 0, 0],\n",
            "        [0, 0, 0, ..., 0, 0, 0],\n",
            "        ...,\n",
            "        [0, 0, 0, ..., 0, 0, 0],\n",
            "        [0, 0, 0, ..., 0, 0, 0],\n",
            "        [0, 0, 0, ..., 0, 0, 0]],\n",
            "\n",
            "       ...,\n",
            "\n",
            "       [[0, 0, 0, ..., 0, 0, 0],\n",
            "        [0, 0, 0, ..., 0, 0, 0],\n",
            "        [0, 0, 0, ..., 0, 0, 0],\n",
            "        ...,\n",
            "        [0, 0, 0, ..., 0, 0, 0],\n",
            "        [0, 0, 0, ..., 0, 0, 0],\n",
            "        [0, 0, 0, ..., 0, 0, 0]],\n",
            "\n",
            "       [[0, 0, 0, ..., 0, 0, 0],\n",
            "        [0, 0, 0, ..., 0, 0, 0],\n",
            "        [0, 0, 0, ..., 0, 0, 0],\n",
            "        ...,\n",
            "        [0, 0, 0, ..., 0, 0, 0],\n",
            "        [0, 0, 0, ..., 0, 0, 0],\n",
            "        [0, 0, 0, ..., 0, 0, 0]],\n",
            "\n",
            "       [[0, 0, 0, ..., 0, 0, 0],\n",
            "        [0, 0, 0, ..., 0, 0, 0],\n",
            "        [0, 0, 0, ..., 0, 0, 0],\n",
            "        ...,\n",
            "        [0, 0, 0, ..., 0, 0, 0],\n",
            "        [0, 0, 0, ..., 0, 0, 0],\n",
            "        [0, 0, 0, ..., 0, 0, 0]]], dtype=uint8), array([9, 2, 1, ..., 8, 1, 5], dtype=uint8)))\n"
          ],
          "name": "stdout"
        }
      ]
    },
    {
      "cell_type": "code",
      "metadata": {
        "id": "hAzIVNlpTFay",
        "outputId": "24130fb2-4e4c-4ce4-e41d-342c02da4f69",
        "colab": {
          "base_uri": "https://localhost:8080/",
          "height": 283
        }
      },
      "source": [
        "image = X_train[0]\n",
        "image_display = image.reshape(28,28)\n",
        "plt.imshow(image_display)\n",
        "y_train[0]\n"
      ],
      "execution_count": null,
      "outputs": [
        {
          "output_type": "execute_result",
          "data": {
            "text/plain": [
              "9"
            ]
          },
          "metadata": {
            "tags": []
          },
          "execution_count": 4
        },
        {
          "output_type": "display_data",
          "data": {
            "image/png": "[encoded data removed]",
            "text/plain": [
              "<Figure size 432x288 with 1 Axes>"
            ]
          },
          "metadata": {
            "tags": [],
            "needs_background": "light"
          }
        }
      ]
    },
    {
      "cell_type": "code",
      "metadata": {
        "id": "5aRAiCPuYmz_"
      },
      "source": [
        "X_train = pd.DataFrame(X_train.reshape(60000,784))\n",
        "X_test = pd.DataFrame(X_test.reshape(10000,784))\n",
        "y_train = pd.DataFrame(y_train)\n",
        "y_test = pd.DataFrame(y_test)\n",
        "\n",
        "\n"
      ],
      "execution_count": null,
      "outputs": []
    },
    {
      "cell_type": "code",
      "metadata": {
        "id": "A-BufDbcYxQZ",
        "outputId": "059ff172-a2e0-4b20-f8b5-05cd4919f74d",
        "colab": {
          "base_uri": "https://localhost:8080/",
          "height": 35
        }
      },
      "source": [
        "print (X_train.shape, y_train.shape, X_test.shape, y_test.shape)"
      ],
      "execution_count": null,
      "outputs": [
        {
          "output_type": "stream",
          "text": [
            "(60000, 784) (60000, 1) (10000, 784) (10000, 1)\n"
          ],
          "name": "stdout"
        }
      ]
    },
    {
      "cell_type": "code",
      "metadata": {
        "id": "e667O4i_uhX6",
        "outputId": "4244aab4-f710-4d2a-f4a6-e819a91e105a",
        "colab": {
          "base_uri": "https://localhost:8080/",
          "height": 202
        }
      },
      "source": [
        "y_test.head()"
      ],
      "execution_count": null,
      "outputs": [
        {
          "output_type": "execute_result",
          "data": {
            "text/html": [
              "<div>\n",
              "<style scoped>\n",
              "    .dataframe tbody tr th:only-of-type {\n",
              "        vertical-align: middle;\n",
              "    }\n",
              "\n",
              "    .dataframe tbody tr th {\n",
              "        vertical-align: top;\n",
              "    }\n",
              "\n",
              "    .dataframe thead th {\n",
              "        text-align: right;\n",
              "    }\n",
              "</style>\n",
              "<table border=\"1\" class=\"dataframe\">\n",
              "  <thead>\n",
              "    <tr style=\"text-align: right;\">\n",
              "      <th></th>\n",
              "      <th>0</th>\n",
              "    </tr>\n",
              "  </thead>\n",
              "  <tbody>\n",
              "    <tr>\n",
              "      <th>0</th>\n",
              "      <td>9</td>\n",
              "    </tr>\n",
              "    <tr>\n",
              "      <th>1</th>\n",
              "      <td>2</td>\n",
              "    </tr>\n",
              "    <tr>\n",
              "      <th>2</th>\n",
              "      <td>1</td>\n",
              "    </tr>\n",
              "    <tr>\n",
              "      <th>3</th>\n",
              "      <td>1</td>\n",
              "    </tr>\n",
              "    <tr>\n",
              "      <th>4</th>\n",
              "      <td>6</td>\n",
              "    </tr>\n",
              "  </tbody>\n",
              "</table>\n",
              "</div>"
            ],
            "text/plain": [
              "   0\n",
              "0  9\n",
              "1  2\n",
              "2  1\n",
              "3  1\n",
              "4  6"
            ]
          },
          "metadata": {
            "tags": []
          },
          "execution_count": 7
        }
      ]
    },
    {
      "cell_type": "markdown",
      "metadata": {
        "id": "JKS2zk7seMHn"
      },
      "source": [
        "##Assignment"
      ]
    },
    {
      "cell_type": "markdown",
      "metadata": {
        "id": "2dLKJKaHeQMK"
      },
      "source": [
        "Above dataset has images of different types of merchandise (structure is the same as digit recognition dataset). Numerical labels correspond to the following types of goods - \n",
        "1. T-shirt/top\n",
        "2. Trouser\n",
        "3. Pullover\n",
        "4. Dress\n",
        "5. Coat\n",
        "6. Sandal\n",
        "7. Shirt\n",
        "8. Sneaker\n",
        "9. Bag\n",
        "10. Ankle boot\n",
        "\n",
        "You are required to experiment with different classification models and select the best model for classification of images in the given dataset.\n",
        "\n",
        "Through cross valiation assess if the results are consistent.\n",
        "\n",
        "Perform hyperparameter tuning on the selected model(s).\n",
        "\n",
        "You may refer to the digit classification exercise for getting guiance but try performing the entire sequence on your owns. "
      ]
    },
    {
      "cell_type": "markdown",
      "metadata": {
        "id": "UUCs5H2xvj8x"
      },
      "source": [
        "## SGD Classifiers"
      ]
    },
    {
      "cell_type": "code",
      "metadata": {
        "id": "9T9aNBz4vvyd"
      },
      "source": [
        "from sklearn.preprocessing import StandardScaler\n",
        "sc = StandardScaler()\n",
        "X_train = sc.fit_transform(X_train)\n"
      ],
      "execution_count": null,
      "outputs": []
    },
    {
      "cell_type": "code",
      "metadata": {
        "id": "ediGwcWaYO_E",
        "outputId": "cba8548f-f69b-4b52-c23c-02c6bb885a81",
        "colab": {
          "base_uri": "https://localhost:8080/",
          "height": 211
        }
      },
      "source": [
        "from sklearn.linear_model import SGDClassifier\n",
        "from sklearn import metrics\n",
        "lm = SGDClassifier(random_state=42)\n",
        "lm.fit(X_train, y_train)\n"
      ],
      "execution_count": null,
      "outputs": [
        {
          "output_type": "stream",
          "text": [
            "/usr/local/lib/python3.6/dist-packages/sklearn/utils/validation.py:760: DataConversionWarning: A column-vector y was passed when a 1d array was expected. Please change the shape of y to (n_samples, ), for example using ravel().\n",
            "  y = column_or_1d(y, warn=True)\n",
            "/usr/local/lib/python3.6/dist-packages/sklearn/linear_model/_stochastic_gradient.py:557: ConvergenceWarning: Maximum number of iteration reached before convergence. Consider increasing max_iter to improve the fit.\n",
            "  ConvergenceWarning)\n"
          ],
          "name": "stderr"
        },
        {
          "output_type": "execute_result",
          "data": {
            "text/plain": [
              "SGDClassifier(alpha=0.0001, average=False, class_weight=None,\n",
              "              early_stopping=False, epsilon=0.1, eta0=0.0, fit_intercept=True,\n",
              "              l1_ratio=0.15, learning_rate='optimal', loss='hinge',\n",
              "              max_iter=1000, n_iter_no_change=5, n_jobs=None, penalty='l2',\n",
              "              power_t=0.5, random_state=42, shuffle=True, tol=0.001,\n",
              "              validation_fraction=0.1, verbose=0, warm_start=False)"
            ]
          },
          "metadata": {
            "tags": []
          },
          "execution_count": 9
        }
      ]
    },
    {
      "cell_type": "code",
      "metadata": {
        "id": "jLgJdipztctj",
        "outputId": "73534d13-5acd-4974-82ae-e9dcec1afe61",
        "colab": {
          "base_uri": "https://localhost:8080/",
          "height": 139
        }
      },
      "source": [
        "Prediction = lm.predict(X_test)\n",
        "print(Prediction)\n",
        "print(y_test.head())"
      ],
      "execution_count": null,
      "outputs": [
        {
          "output_type": "stream",
          "text": [
            "[9 2 1 ... 8 1 5]\n",
            "   0\n",
            "0  9\n",
            "1  2\n",
            "2  1\n",
            "3  1\n",
            "4  6\n"
          ],
          "name": "stdout"
        }
      ]
    },
    {
      "cell_type": "code",
      "metadata": {
        "id": "oSFVVjBqwc2c",
        "outputId": "b7c467d3-8779-497b-b3f2-46cfa13fe637",
        "colab": {
          "base_uri": "https://localhost:8080/",
          "height": 35
        }
      },
      "source": [
        "lm.score(X_test, y_test)"
      ],
      "execution_count": null,
      "outputs": [
        {
          "output_type": "execute_result",
          "data": {
            "text/plain": [
              "0.6767"
            ]
          },
          "metadata": {
            "tags": []
          },
          "execution_count": 11
        }
      ]
    },
    {
      "cell_type": "code",
      "metadata": {
        "id": "i6ggiQrdwljx",
        "outputId": "4a8b6850-17c7-4dbd-e44b-d62ca1761e54",
        "colab": {
          "base_uri": "https://localhost:8080/",
          "height": 247
        }
      },
      "source": [
        "from sklearn import metrics\n",
        "con_matrix = metrics.confusion_matrix(y_test, Prediction)\n",
        "con_matrix = pd.DataFrame(con_matrix)\n",
        "con_matrix.style.background_gradient(cmap = 'coolwarm')"
      ],
      "execution_count": null,
      "outputs": [
        {
          "output_type": "execute_result",
          "data": {
            "text/html": [
              "<style  type=\"text/css\" >\n",
              "    #T_fa3da4d8_0003_11eb_b99c_0242ac1c0002row0_col0 {\n",
              "            background-color:  #b40426;\n",
              "            color:  #f1f1f1;\n",
              "        }    #T_fa3da4d8_0003_11eb_b99c_0242ac1c0002row0_col1 {\n",
              "            background-color:  #445acc;\n",
              "            color:  #f1f1f1;\n",
              "        }    #T_fa3da4d8_0003_11eb_b99c_0242ac1c0002row0_col2 {\n",
              "            background-color:  #4b64d5;\n",
              "            color:  #f1f1f1;\n",
              "        }    #T_fa3da4d8_0003_11eb_b99c_0242ac1c0002row0_col3 {\n",
              "            background-color:  #3d50c3;\n",
              "            color:  #f1f1f1;\n",
              "        }    #T_fa3da4d8_0003_11eb_b99c_0242ac1c0002row0_col4 {\n",
              "            background-color:  #4c66d6;\n",
              "            color:  #000000;\n",
              "        }    #T_fa3da4d8_0003_11eb_b99c_0242ac1c0002row0_col5 {\n",
              "            background-color:  #3b4cc0;\n",
              "            color:  #f1f1f1;\n",
              "        }    #T_fa3da4d8_0003_11eb_b99c_0242ac1c0002row0_col6 {\n",
              "            background-color:  #e0dbd8;\n",
              "            color:  #000000;\n",
              "        }    #T_fa3da4d8_0003_11eb_b99c_0242ac1c0002row0_col7 {\n",
              "            background-color:  #3b4cc0;\n",
              "            color:  #f1f1f1;\n",
              "        }    #T_fa3da4d8_0003_11eb_b99c_0242ac1c0002row0_col8 {\n",
              "            background-color:  #455cce;\n",
              "            color:  #f1f1f1;\n",
              "        }    #T_fa3da4d8_0003_11eb_b99c_0242ac1c0002row0_col9 {\n",
              "            background-color:  #3b4cc0;\n",
              "            color:  #f1f1f1;\n",
              "        }    #T_fa3da4d8_0003_11eb_b99c_0242ac1c0002row1_col0 {\n",
              "            background-color:  #3c4ec2;\n",
              "            color:  #f1f1f1;\n",
              "        }    #T_fa3da4d8_0003_11eb_b99c_0242ac1c0002row1_col1 {\n",
              "            background-color:  #b40426;\n",
              "            color:  #f1f1f1;\n",
              "        }    #T_fa3da4d8_0003_11eb_b99c_0242ac1c0002row1_col2 {\n",
              "            background-color:  #3e51c5;\n",
              "            color:  #f1f1f1;\n",
              "        }    #T_fa3da4d8_0003_11eb_b99c_0242ac1c0002row1_col3 {\n",
              "            background-color:  #3b4cc0;\n",
              "            color:  #f1f1f1;\n",
              "        }    #T_fa3da4d8_0003_11eb_b99c_0242ac1c0002row1_col4 {\n",
              "            background-color:  #3f53c6;\n",
              "            color:  #f1f1f1;\n",
              "        }    #T_fa3da4d8_0003_11eb_b99c_0242ac1c0002row1_col5 {\n",
              "            background-color:  #3b4cc0;\n",
              "            color:  #f1f1f1;\n",
              "        }    #T_fa3da4d8_0003_11eb_b99c_0242ac1c0002row1_col6 {\n",
              "            background-color:  #3f53c6;\n",
              "            color:  #f1f1f1;\n",
              "        }    #T_fa3da4d8_0003_11eb_b99c_0242ac1c0002row1_col7 {\n",
              "            background-color:  #3b4cc0;\n",
              "            color:  #f1f1f1;\n",
              "        }    #T_fa3da4d8_0003_11eb_b99c_0242ac1c0002row1_col8 {\n",
              "            background-color:  #3b4cc0;\n",
              "            color:  #f1f1f1;\n",
              "        }    #T_fa3da4d8_0003_11eb_b99c_0242ac1c0002row1_col9 {\n",
              "            background-color:  #3b4cc0;\n",
              "            color:  #f1f1f1;\n",
              "        }    #T_fa3da4d8_0003_11eb_b99c_0242ac1c0002row2_col0 {\n",
              "            background-color:  #3d50c3;\n",
              "            color:  #f1f1f1;\n",
              "        }    #T_fa3da4d8_0003_11eb_b99c_0242ac1c0002row2_col1 {\n",
              "            background-color:  #3c4ec2;\n",
              "            color:  #f1f1f1;\n",
              "        }    #T_fa3da4d8_0003_11eb_b99c_0242ac1c0002row2_col2 {\n",
              "            background-color:  #b40426;\n",
              "            color:  #f1f1f1;\n",
              "        }    #T_fa3da4d8_0003_11eb_b99c_0242ac1c0002row2_col3 {\n",
              "            background-color:  #3d50c3;\n",
              "            color:  #f1f1f1;\n",
              "        }    #T_fa3da4d8_0003_11eb_b99c_0242ac1c0002row2_col4 {\n",
              "            background-color:  #6788ee;\n",
              "            color:  #000000;\n",
              "        }    #T_fa3da4d8_0003_11eb_b99c_0242ac1c0002row2_col5 {\n",
              "            background-color:  #3b4cc0;\n",
              "            color:  #f1f1f1;\n",
              "        }    #T_fa3da4d8_0003_11eb_b99c_0242ac1c0002row2_col6 {\n",
              "            background-color:  #84a7fc;\n",
              "            color:  #000000;\n",
              "        }    #T_fa3da4d8_0003_11eb_b99c_0242ac1c0002row2_col7 {\n",
              "            background-color:  #3b4cc0;\n",
              "            color:  #f1f1f1;\n",
              "        }    #T_fa3da4d8_0003_11eb_b99c_0242ac1c0002row2_col8 {\n",
              "            background-color:  #4055c8;\n",
              "            color:  #f1f1f1;\n",
              "        }    #T_fa3da4d8_0003_11eb_b99c_0242ac1c0002row2_col9 {\n",
              "            background-color:  #3b4cc0;\n",
              "            color:  #f1f1f1;\n",
              "        }    #T_fa3da4d8_0003_11eb_b99c_0242ac1c0002row3_col0 {\n",
              "            background-color:  #6b8df0;\n",
              "            color:  #000000;\n",
              "        }    #T_fa3da4d8_0003_11eb_b99c_0242ac1c0002row3_col1 {\n",
              "            background-color:  #b5cdfa;\n",
              "            color:  #000000;\n",
              "        }    #T_fa3da4d8_0003_11eb_b99c_0242ac1c0002row3_col2 {\n",
              "            background-color:  #536edd;\n",
              "            color:  #000000;\n",
              "        }    #T_fa3da4d8_0003_11eb_b99c_0242ac1c0002row3_col3 {\n",
              "            background-color:  #b40426;\n",
              "            color:  #f1f1f1;\n",
              "        }    #T_fa3da4d8_0003_11eb_b99c_0242ac1c0002row3_col4 {\n",
              "            background-color:  #a5c3fe;\n",
              "            color:  #000000;\n",
              "        }    #T_fa3da4d8_0003_11eb_b99c_0242ac1c0002row3_col5 {\n",
              "            background-color:  #3b4cc0;\n",
              "            color:  #f1f1f1;\n",
              "        }    #T_fa3da4d8_0003_11eb_b99c_0242ac1c0002row3_col6 {\n",
              "            background-color:  #7da0f9;\n",
              "            color:  #000000;\n",
              "        }    #T_fa3da4d8_0003_11eb_b99c_0242ac1c0002row3_col7 {\n",
              "            background-color:  #3b4cc0;\n",
              "            color:  #f1f1f1;\n",
              "        }    #T_fa3da4d8_0003_11eb_b99c_0242ac1c0002row3_col8 {\n",
              "            background-color:  #3c4ec2;\n",
              "            color:  #f1f1f1;\n",
              "        }    #T_fa3da4d8_0003_11eb_b99c_0242ac1c0002row3_col9 {\n",
              "            background-color:  #3b4cc0;\n",
              "            color:  #f1f1f1;\n",
              "        }    #T_fa3da4d8_0003_11eb_b99c_0242ac1c0002row4_col0 {\n",
              "            background-color:  #3b4cc0;\n",
              "            color:  #f1f1f1;\n",
              "        }    #T_fa3da4d8_0003_11eb_b99c_0242ac1c0002row4_col1 {\n",
              "            background-color:  #3d50c3;\n",
              "            color:  #f1f1f1;\n",
              "        }    #T_fa3da4d8_0003_11eb_b99c_0242ac1c0002row4_col2 {\n",
              "            background-color:  #97b8ff;\n",
              "            color:  #000000;\n",
              "        }    #T_fa3da4d8_0003_11eb_b99c_0242ac1c0002row4_col3 {\n",
              "            background-color:  #3b4cc0;\n",
              "            color:  #f1f1f1;\n",
              "        }    #T_fa3da4d8_0003_11eb_b99c_0242ac1c0002row4_col4 {\n",
              "            background-color:  #b40426;\n",
              "            color:  #f1f1f1;\n",
              "        }    #T_fa3da4d8_0003_11eb_b99c_0242ac1c0002row4_col5 {\n",
              "            background-color:  #3b4cc0;\n",
              "            color:  #f1f1f1;\n",
              "        }    #T_fa3da4d8_0003_11eb_b99c_0242ac1c0002row4_col6 {\n",
              "            background-color:  #6384eb;\n",
              "            color:  #000000;\n",
              "        }    #T_fa3da4d8_0003_11eb_b99c_0242ac1c0002row4_col7 {\n",
              "            background-color:  #3b4cc0;\n",
              "            color:  #f1f1f1;\n",
              "        }    #T_fa3da4d8_0003_11eb_b99c_0242ac1c0002row4_col8 {\n",
              "            background-color:  #3d50c3;\n",
              "            color:  #f1f1f1;\n",
              "        }    #T_fa3da4d8_0003_11eb_b99c_0242ac1c0002row4_col9 {\n",
              "            background-color:  #3b4cc0;\n",
              "            color:  #f1f1f1;\n",
              "        }    #T_fa3da4d8_0003_11eb_b99c_0242ac1c0002row5_col0 {\n",
              "            background-color:  #3b4cc0;\n",
              "            color:  #f1f1f1;\n",
              "        }    #T_fa3da4d8_0003_11eb_b99c_0242ac1c0002row5_col1 {\n",
              "            background-color:  #3b4cc0;\n",
              "            color:  #f1f1f1;\n",
              "        }    #T_fa3da4d8_0003_11eb_b99c_0242ac1c0002row5_col2 {\n",
              "            background-color:  #3b4cc0;\n",
              "            color:  #f1f1f1;\n",
              "        }    #T_fa3da4d8_0003_11eb_b99c_0242ac1c0002row5_col3 {\n",
              "            background-color:  #3b4cc0;\n",
              "            color:  #f1f1f1;\n",
              "        }    #T_fa3da4d8_0003_11eb_b99c_0242ac1c0002row5_col4 {\n",
              "            background-color:  #3b4cc0;\n",
              "            color:  #f1f1f1;\n",
              "        }    #T_fa3da4d8_0003_11eb_b99c_0242ac1c0002row5_col5 {\n",
              "            background-color:  #b40426;\n",
              "            color:  #f1f1f1;\n",
              "        }    #T_fa3da4d8_0003_11eb_b99c_0242ac1c0002row5_col6 {\n",
              "            background-color:  #4358cb;\n",
              "            color:  #f1f1f1;\n",
              "        }    #T_fa3da4d8_0003_11eb_b99c_0242ac1c0002row5_col7 {\n",
              "            background-color:  #4e68d8;\n",
              "            color:  #000000;\n",
              "        }    #T_fa3da4d8_0003_11eb_b99c_0242ac1c0002row5_col8 {\n",
              "            background-color:  #8badfd;\n",
              "            color:  #000000;\n",
              "        }    #T_fa3da4d8_0003_11eb_b99c_0242ac1c0002row5_col9 {\n",
              "            background-color:  #6687ed;\n",
              "            color:  #000000;\n",
              "        }    #T_fa3da4d8_0003_11eb_b99c_0242ac1c0002row6_col0 {\n",
              "            background-color:  #84a7fc;\n",
              "            color:  #000000;\n",
              "        }    #T_fa3da4d8_0003_11eb_b99c_0242ac1c0002row6_col1 {\n",
              "            background-color:  #3e51c5;\n",
              "            color:  #f1f1f1;\n",
              "        }    #T_fa3da4d8_0003_11eb_b99c_0242ac1c0002row6_col2 {\n",
              "            background-color:  #b2ccfb;\n",
              "            color:  #000000;\n",
              "        }    #T_fa3da4d8_0003_11eb_b99c_0242ac1c0002row6_col3 {\n",
              "            background-color:  #3c4ec2;\n",
              "            color:  #f1f1f1;\n",
              "        }    #T_fa3da4d8_0003_11eb_b99c_0242ac1c0002row6_col4 {\n",
              "            background-color:  #d1dae9;\n",
              "            color:  #000000;\n",
              "        }    #T_fa3da4d8_0003_11eb_b99c_0242ac1c0002row6_col5 {\n",
              "            background-color:  #3b4cc0;\n",
              "            color:  #f1f1f1;\n",
              "        }    #T_fa3da4d8_0003_11eb_b99c_0242ac1c0002row6_col6 {\n",
              "            background-color:  #b40426;\n",
              "            color:  #f1f1f1;\n",
              "        }    #T_fa3da4d8_0003_11eb_b99c_0242ac1c0002row6_col7 {\n",
              "            background-color:  #3b4cc0;\n",
              "            color:  #f1f1f1;\n",
              "        }    #T_fa3da4d8_0003_11eb_b99c_0242ac1c0002row6_col8 {\n",
              "            background-color:  #506bda;\n",
              "            color:  #000000;\n",
              "        }    #T_fa3da4d8_0003_11eb_b99c_0242ac1c0002row6_col9 {\n",
              "            background-color:  #3b4cc0;\n",
              "            color:  #f1f1f1;\n",
              "        }    #T_fa3da4d8_0003_11eb_b99c_0242ac1c0002row7_col0 {\n",
              "            background-color:  #3b4cc0;\n",
              "            color:  #f1f1f1;\n",
              "        }    #T_fa3da4d8_0003_11eb_b99c_0242ac1c0002row7_col1 {\n",
              "            background-color:  #3b4cc0;\n",
              "            color:  #f1f1f1;\n",
              "        }    #T_fa3da4d8_0003_11eb_b99c_0242ac1c0002row7_col2 {\n",
              "            background-color:  #3b4cc0;\n",
              "            color:  #f1f1f1;\n",
              "        }    #T_fa3da4d8_0003_11eb_b99c_0242ac1c0002row7_col3 {\n",
              "            background-color:  #3b4cc0;\n",
              "            color:  #f1f1f1;\n",
              "        }    #T_fa3da4d8_0003_11eb_b99c_0242ac1c0002row7_col4 {\n",
              "            background-color:  #3b4cc0;\n",
              "            color:  #f1f1f1;\n",
              "        }    #T_fa3da4d8_0003_11eb_b99c_0242ac1c0002row7_col5 {\n",
              "            background-color:  #3e51c5;\n",
              "            color:  #f1f1f1;\n",
              "        }    #T_fa3da4d8_0003_11eb_b99c_0242ac1c0002row7_col6 {\n",
              "            background-color:  #3b4cc0;\n",
              "            color:  #f1f1f1;\n",
              "        }    #T_fa3da4d8_0003_11eb_b99c_0242ac1c0002row7_col7 {\n",
              "            background-color:  #b40426;\n",
              "            color:  #f1f1f1;\n",
              "        }    #T_fa3da4d8_0003_11eb_b99c_0242ac1c0002row7_col8 {\n",
              "            background-color:  #4e68d8;\n",
              "            color:  #000000;\n",
              "        }    #T_fa3da4d8_0003_11eb_b99c_0242ac1c0002row7_col9 {\n",
              "            background-color:  #a7c5fe;\n",
              "            color:  #000000;\n",
              "        }    #T_fa3da4d8_0003_11eb_b99c_0242ac1c0002row8_col0 {\n",
              "            background-color:  #3b4cc0;\n",
              "            color:  #f1f1f1;\n",
              "        }    #T_fa3da4d8_0003_11eb_b99c_0242ac1c0002row8_col1 {\n",
              "            background-color:  #3b4cc0;\n",
              "            color:  #f1f1f1;\n",
              "        }    #T_fa3da4d8_0003_11eb_b99c_0242ac1c0002row8_col2 {\n",
              "            background-color:  #3b4cc0;\n",
              "            color:  #f1f1f1;\n",
              "        }    #T_fa3da4d8_0003_11eb_b99c_0242ac1c0002row8_col3 {\n",
              "            background-color:  #3c4ec2;\n",
              "            color:  #f1f1f1;\n",
              "        }    #T_fa3da4d8_0003_11eb_b99c_0242ac1c0002row8_col4 {\n",
              "            background-color:  #3c4ec2;\n",
              "            color:  #f1f1f1;\n",
              "        }    #T_fa3da4d8_0003_11eb_b99c_0242ac1c0002row8_col5 {\n",
              "            background-color:  #3b4cc0;\n",
              "            color:  #f1f1f1;\n",
              "        }    #T_fa3da4d8_0003_11eb_b99c_0242ac1c0002row8_col6 {\n",
              "            background-color:  #6c8ff1;\n",
              "            color:  #000000;\n",
              "        }    #T_fa3da4d8_0003_11eb_b99c_0242ac1c0002row8_col7 {\n",
              "            background-color:  #3c4ec2;\n",
              "            color:  #f1f1f1;\n",
              "        }    #T_fa3da4d8_0003_11eb_b99c_0242ac1c0002row8_col8 {\n",
              "            background-color:  #b40426;\n",
              "            color:  #f1f1f1;\n",
              "        }    #T_fa3da4d8_0003_11eb_b99c_0242ac1c0002row8_col9 {\n",
              "            background-color:  #3b4cc0;\n",
              "            color:  #f1f1f1;\n",
              "        }    #T_fa3da4d8_0003_11eb_b99c_0242ac1c0002row9_col0 {\n",
              "            background-color:  #3b4cc0;\n",
              "            color:  #f1f1f1;\n",
              "        }    #T_fa3da4d8_0003_11eb_b99c_0242ac1c0002row9_col1 {\n",
              "            background-color:  #3b4cc0;\n",
              "            color:  #f1f1f1;\n",
              "        }    #T_fa3da4d8_0003_11eb_b99c_0242ac1c0002row9_col2 {\n",
              "            background-color:  #3b4cc0;\n",
              "            color:  #f1f1f1;\n",
              "        }    #T_fa3da4d8_0003_11eb_b99c_0242ac1c0002row9_col3 {\n",
              "            background-color:  #3c4ec2;\n",
              "            color:  #f1f1f1;\n",
              "        }    #T_fa3da4d8_0003_11eb_b99c_0242ac1c0002row9_col4 {\n",
              "            background-color:  #3b4cc0;\n",
              "            color:  #f1f1f1;\n",
              "        }    #T_fa3da4d8_0003_11eb_b99c_0242ac1c0002row9_col5 {\n",
              "            background-color:  #3b4cc0;\n",
              "            color:  #f1f1f1;\n",
              "        }    #T_fa3da4d8_0003_11eb_b99c_0242ac1c0002row9_col6 {\n",
              "            background-color:  #3b4cc0;\n",
              "            color:  #f1f1f1;\n",
              "        }    #T_fa3da4d8_0003_11eb_b99c_0242ac1c0002row9_col7 {\n",
              "            background-color:  #3b4cc0;\n",
              "            color:  #f1f1f1;\n",
              "        }    #T_fa3da4d8_0003_11eb_b99c_0242ac1c0002row9_col8 {\n",
              "            background-color:  #3c4ec2;\n",
              "            color:  #f1f1f1;\n",
              "        }    #T_fa3da4d8_0003_11eb_b99c_0242ac1c0002row9_col9 {\n",
              "            background-color:  #b40426;\n",
              "            color:  #f1f1f1;\n",
              "        }</style><table id=\"T_fa3da4d8_0003_11eb_b99c_0242ac1c0002\" ><thead>    <tr>        <th class=\"blank level0\" ></th>        <th class=\"col_heading level0 col0\" >0</th>        <th class=\"col_heading level0 col1\" >1</th>        <th class=\"col_heading level0 col2\" >2</th>        <th class=\"col_heading level0 col3\" >3</th>        <th class=\"col_heading level0 col4\" >4</th>        <th class=\"col_heading level0 col5\" >5</th>        <th class=\"col_heading level0 col6\" >6</th>        <th class=\"col_heading level0 col7\" >7</th>        <th class=\"col_heading level0 col8\" >8</th>        <th class=\"col_heading level0 col9\" >9</th>    </tr></thead><tbody>\n",
              "                <tr>\n",
              "                        <th id=\"T_fa3da4d8_0003_11eb_b99c_0242ac1c0002level0_row0\" class=\"row_heading level0 row0\" >0</th>\n",
              "                        <td id=\"T_fa3da4d8_0003_11eb_b99c_0242ac1c0002row0_col0\" class=\"data row0 col0\" >786</td>\n",
              "                        <td id=\"T_fa3da4d8_0003_11eb_b99c_0242ac1c0002row0_col1\" class=\"data row0 col1\" >31</td>\n",
              "                        <td id=\"T_fa3da4d8_0003_11eb_b99c_0242ac1c0002row0_col2\" class=\"data row0 col2\" >46</td>\n",
              "                        <td id=\"T_fa3da4d8_0003_11eb_b99c_0242ac1c0002row0_col3\" class=\"data row0 col3\" >2</td>\n",
              "                        <td id=\"T_fa3da4d8_0003_11eb_b99c_0242ac1c0002row0_col4\" class=\"data row0 col4\" >44</td>\n",
              "                        <td id=\"T_fa3da4d8_0003_11eb_b99c_0242ac1c0002row0_col5\" class=\"data row0 col5\" >0</td>\n",
              "                        <td id=\"T_fa3da4d8_0003_11eb_b99c_0242ac1c0002row0_col6\" class=\"data row0 col6\" >55</td>\n",
              "                        <td id=\"T_fa3da4d8_0003_11eb_b99c_0242ac1c0002row0_col7\" class=\"data row0 col7\" >0</td>\n",
              "                        <td id=\"T_fa3da4d8_0003_11eb_b99c_0242ac1c0002row0_col8\" class=\"data row0 col8\" >36</td>\n",
              "                        <td id=\"T_fa3da4d8_0003_11eb_b99c_0242ac1c0002row0_col9\" class=\"data row0 col9\" >0</td>\n",
              "            </tr>\n",
              "            <tr>\n",
              "                        <th id=\"T_fa3da4d8_0003_11eb_b99c_0242ac1c0002level0_row1\" class=\"row_heading level0 row1\" >1</th>\n",
              "                        <td id=\"T_fa3da4d8_0003_11eb_b99c_0242ac1c0002row1_col0\" class=\"data row1 col0\" >4</td>\n",
              "                        <td id=\"T_fa3da4d8_0003_11eb_b99c_0242ac1c0002row1_col1\" class=\"data row1 col1\" >966</td>\n",
              "                        <td id=\"T_fa3da4d8_0003_11eb_b99c_0242ac1c0002row1_col2\" class=\"data row1 col2\" >13</td>\n",
              "                        <td id=\"T_fa3da4d8_0003_11eb_b99c_0242ac1c0002row1_col3\" class=\"data row1 col3\" >0</td>\n",
              "                        <td id=\"T_fa3da4d8_0003_11eb_b99c_0242ac1c0002row1_col4\" class=\"data row1 col4\" >13</td>\n",
              "                        <td id=\"T_fa3da4d8_0003_11eb_b99c_0242ac1c0002row1_col5\" class=\"data row1 col5\" >0</td>\n",
              "                        <td id=\"T_fa3da4d8_0003_11eb_b99c_0242ac1c0002row1_col6\" class=\"data row1 col6\" >2</td>\n",
              "                        <td id=\"T_fa3da4d8_0003_11eb_b99c_0242ac1c0002row1_col7\" class=\"data row1 col7\" >0</td>\n",
              "                        <td id=\"T_fa3da4d8_0003_11eb_b99c_0242ac1c0002row1_col8\" class=\"data row1 col8\" >2</td>\n",
              "                        <td id=\"T_fa3da4d8_0003_11eb_b99c_0242ac1c0002row1_col9\" class=\"data row1 col9\" >0</td>\n",
              "            </tr>\n",
              "            <tr>\n",
              "                        <th id=\"T_fa3da4d8_0003_11eb_b99c_0242ac1c0002level0_row2\" class=\"row_heading level0 row2\" >2</th>\n",
              "                        <td id=\"T_fa3da4d8_0003_11eb_b99c_0242ac1c0002row2_col0\" class=\"data row2 col0\" >7</td>\n",
              "                        <td id=\"T_fa3da4d8_0003_11eb_b99c_0242ac1c0002row2_col1\" class=\"data row2 col1\" >4</td>\n",
              "                        <td id=\"T_fa3da4d8_0003_11eb_b99c_0242ac1c0002row2_col2\" class=\"data row2 col2\" >839</td>\n",
              "                        <td id=\"T_fa3da4d8_0003_11eb_b99c_0242ac1c0002row2_col3\" class=\"data row2 col3\" >2</td>\n",
              "                        <td id=\"T_fa3da4d8_0003_11eb_b99c_0242ac1c0002row2_col4\" class=\"data row2 col4\" >103</td>\n",
              "                        <td id=\"T_fa3da4d8_0003_11eb_b99c_0242ac1c0002row2_col5\" class=\"data row2 col5\" >0</td>\n",
              "                        <td id=\"T_fa3da4d8_0003_11eb_b99c_0242ac1c0002row2_col6\" class=\"data row2 col6\" >24</td>\n",
              "                        <td id=\"T_fa3da4d8_0003_11eb_b99c_0242ac1c0002row2_col7\" class=\"data row2 col7\" >0</td>\n",
              "                        <td id=\"T_fa3da4d8_0003_11eb_b99c_0242ac1c0002row2_col8\" class=\"data row2 col8\" >21</td>\n",
              "                        <td id=\"T_fa3da4d8_0003_11eb_b99c_0242ac1c0002row2_col9\" class=\"data row2 col9\" >0</td>\n",
              "            </tr>\n",
              "            <tr>\n",
              "                        <th id=\"T_fa3da4d8_0003_11eb_b99c_0242ac1c0002level0_row3\" class=\"row_heading level0 row3\" >3</th>\n",
              "                        <td id=\"T_fa3da4d8_0003_11eb_b99c_0242ac1c0002row3_col0\" class=\"data row3 col0\" >120</td>\n",
              "                        <td id=\"T_fa3da4d8_0003_11eb_b99c_0242ac1c0002row3_col1\" class=\"data row3 col1\" >353</td>\n",
              "                        <td id=\"T_fa3da4d8_0003_11eb_b99c_0242ac1c0002row3_col2\" class=\"data row3 col2\" >67</td>\n",
              "                        <td id=\"T_fa3da4d8_0003_11eb_b99c_0242ac1c0002row3_col3\" class=\"data row3 col3\" >197</td>\n",
              "                        <td id=\"T_fa3da4d8_0003_11eb_b99c_0242ac1c0002row3_col4\" class=\"data row3 col4\" >233</td>\n",
              "                        <td id=\"T_fa3da4d8_0003_11eb_b99c_0242ac1c0002row3_col5\" class=\"data row3 col5\" >0</td>\n",
              "                        <td id=\"T_fa3da4d8_0003_11eb_b99c_0242ac1c0002row3_col6\" class=\"data row3 col6\" >22</td>\n",
              "                        <td id=\"T_fa3da4d8_0003_11eb_b99c_0242ac1c0002row3_col7\" class=\"data row3 col7\" >0</td>\n",
              "                        <td id=\"T_fa3da4d8_0003_11eb_b99c_0242ac1c0002row3_col8\" class=\"data row3 col8\" >8</td>\n",
              "                        <td id=\"T_fa3da4d8_0003_11eb_b99c_0242ac1c0002row3_col9\" class=\"data row3 col9\" >0</td>\n",
              "            </tr>\n",
              "            <tr>\n",
              "                        <th id=\"T_fa3da4d8_0003_11eb_b99c_0242ac1c0002level0_row4\" class=\"row_heading level0 row4\" >4</th>\n",
              "                        <td id=\"T_fa3da4d8_0003_11eb_b99c_0242ac1c0002row4_col0\" class=\"data row4 col0\" >1</td>\n",
              "                        <td id=\"T_fa3da4d8_0003_11eb_b99c_0242ac1c0002row4_col1\" class=\"data row4 col1\" >8</td>\n",
              "                        <td id=\"T_fa3da4d8_0003_11eb_b99c_0242ac1c0002row4_col2\" class=\"data row4 col2\" >233</td>\n",
              "                        <td id=\"T_fa3da4d8_0003_11eb_b99c_0242ac1c0002row4_col3\" class=\"data row4 col3\" >0</td>\n",
              "                        <td id=\"T_fa3da4d8_0003_11eb_b99c_0242ac1c0002row4_col4\" class=\"data row4 col4\" >731</td>\n",
              "                        <td id=\"T_fa3da4d8_0003_11eb_b99c_0242ac1c0002row4_col5\" class=\"data row4 col5\" >0</td>\n",
              "                        <td id=\"T_fa3da4d8_0003_11eb_b99c_0242ac1c0002row4_col6\" class=\"data row4 col6\" >14</td>\n",
              "                        <td id=\"T_fa3da4d8_0003_11eb_b99c_0242ac1c0002row4_col7\" class=\"data row4 col7\" >0</td>\n",
              "                        <td id=\"T_fa3da4d8_0003_11eb_b99c_0242ac1c0002row4_col8\" class=\"data row4 col8\" >13</td>\n",
              "                        <td id=\"T_fa3da4d8_0003_11eb_b99c_0242ac1c0002row4_col9\" class=\"data row4 col9\" >0</td>\n",
              "            </tr>\n",
              "            <tr>\n",
              "                        <th id=\"T_fa3da4d8_0003_11eb_b99c_0242ac1c0002level0_row5\" class=\"row_heading level0 row5\" >5</th>\n",
              "                        <td id=\"T_fa3da4d8_0003_11eb_b99c_0242ac1c0002row5_col0\" class=\"data row5 col0\" >1</td>\n",
              "                        <td id=\"T_fa3da4d8_0003_11eb_b99c_0242ac1c0002row5_col1\" class=\"data row5 col1\" >0</td>\n",
              "                        <td id=\"T_fa3da4d8_0003_11eb_b99c_0242ac1c0002row5_col2\" class=\"data row5 col2\" >0</td>\n",
              "                        <td id=\"T_fa3da4d8_0003_11eb_b99c_0242ac1c0002row5_col3\" class=\"data row5 col3\" >0</td>\n",
              "                        <td id=\"T_fa3da4d8_0003_11eb_b99c_0242ac1c0002row5_col4\" class=\"data row5 col4\" >0</td>\n",
              "                        <td id=\"T_fa3da4d8_0003_11eb_b99c_0242ac1c0002row5_col5\" class=\"data row5 col5\" >584</td>\n",
              "                        <td id=\"T_fa3da4d8_0003_11eb_b99c_0242ac1c0002row5_col6\" class=\"data row5 col6\" >3</td>\n",
              "                        <td id=\"T_fa3da4d8_0003_11eb_b99c_0242ac1c0002row5_col7\" class=\"data row5 col7\" >39</td>\n",
              "                        <td id=\"T_fa3da4d8_0003_11eb_b99c_0242ac1c0002row5_col8\" class=\"data row5 col8\" >237</td>\n",
              "                        <td id=\"T_fa3da4d8_0003_11eb_b99c_0242ac1c0002row5_col9\" class=\"data row5 col9\" >136</td>\n",
              "            </tr>\n",
              "            <tr>\n",
              "                        <th id=\"T_fa3da4d8_0003_11eb_b99c_0242ac1c0002level0_row6\" class=\"row_heading level0 row6\" >6</th>\n",
              "                        <td id=\"T_fa3da4d8_0003_11eb_b99c_0242ac1c0002row6_col0\" class=\"data row6 col0\" >176</td>\n",
              "                        <td id=\"T_fa3da4d8_0003_11eb_b99c_0242ac1c0002row6_col1\" class=\"data row6 col1\" >13</td>\n",
              "                        <td id=\"T_fa3da4d8_0003_11eb_b99c_0242ac1c0002row6_col2\" class=\"data row6 col2\" >299</td>\n",
              "                        <td id=\"T_fa3da4d8_0003_11eb_b99c_0242ac1c0002row6_col3\" class=\"data row6 col3\" >1</td>\n",
              "                        <td id=\"T_fa3da4d8_0003_11eb_b99c_0242ac1c0002row6_col4\" class=\"data row6 col4\" >333</td>\n",
              "                        <td id=\"T_fa3da4d8_0003_11eb_b99c_0242ac1c0002row6_col5\" class=\"data row6 col5\" >0</td>\n",
              "                        <td id=\"T_fa3da4d8_0003_11eb_b99c_0242ac1c0002row6_col6\" class=\"data row6 col6\" >107</td>\n",
              "                        <td id=\"T_fa3da4d8_0003_11eb_b99c_0242ac1c0002row6_col7\" class=\"data row6 col7\" >0</td>\n",
              "                        <td id=\"T_fa3da4d8_0003_11eb_b99c_0242ac1c0002row6_col8\" class=\"data row6 col8\" >71</td>\n",
              "                        <td id=\"T_fa3da4d8_0003_11eb_b99c_0242ac1c0002row6_col9\" class=\"data row6 col9\" >0</td>\n",
              "            </tr>\n",
              "            <tr>\n",
              "                        <th id=\"T_fa3da4d8_0003_11eb_b99c_0242ac1c0002level0_row7\" class=\"row_heading level0 row7\" >7</th>\n",
              "                        <td id=\"T_fa3da4d8_0003_11eb_b99c_0242ac1c0002row7_col0\" class=\"data row7 col0\" >0</td>\n",
              "                        <td id=\"T_fa3da4d8_0003_11eb_b99c_0242ac1c0002row7_col1\" class=\"data row7 col1\" >0</td>\n",
              "                        <td id=\"T_fa3da4d8_0003_11eb_b99c_0242ac1c0002row7_col2\" class=\"data row7 col2\" >0</td>\n",
              "                        <td id=\"T_fa3da4d8_0003_11eb_b99c_0242ac1c0002row7_col3\" class=\"data row7 col3\" >0</td>\n",
              "                        <td id=\"T_fa3da4d8_0003_11eb_b99c_0242ac1c0002row7_col4\" class=\"data row7 col4\" >0</td>\n",
              "                        <td id=\"T_fa3da4d8_0003_11eb_b99c_0242ac1c0002row7_col5\" class=\"data row7 col5\" >9</td>\n",
              "                        <td id=\"T_fa3da4d8_0003_11eb_b99c_0242ac1c0002row7_col6\" class=\"data row7 col6\" >0</td>\n",
              "                        <td id=\"T_fa3da4d8_0003_11eb_b99c_0242ac1c0002row7_col7\" class=\"data row7 col7\" >603</td>\n",
              "                        <td id=\"T_fa3da4d8_0003_11eb_b99c_0242ac1c0002row7_col8\" class=\"data row7 col8\" >65</td>\n",
              "                        <td id=\"T_fa3da4d8_0003_11eb_b99c_0242ac1c0002row7_col9\" class=\"data row7 col9\" >323</td>\n",
              "            </tr>\n",
              "            <tr>\n",
              "                        <th id=\"T_fa3da4d8_0003_11eb_b99c_0242ac1c0002level0_row8\" class=\"row_heading level0 row8\" >8</th>\n",
              "                        <td id=\"T_fa3da4d8_0003_11eb_b99c_0242ac1c0002row8_col0\" class=\"data row8 col0\" >1</td>\n",
              "                        <td id=\"T_fa3da4d8_0003_11eb_b99c_0242ac1c0002row8_col1\" class=\"data row8 col1\" >3</td>\n",
              "                        <td id=\"T_fa3da4d8_0003_11eb_b99c_0242ac1c0002row8_col2\" class=\"data row8 col2\" >3</td>\n",
              "                        <td id=\"T_fa3da4d8_0003_11eb_b99c_0242ac1c0002row8_col3\" class=\"data row8 col3\" >1</td>\n",
              "                        <td id=\"T_fa3da4d8_0003_11eb_b99c_0242ac1c0002row8_col4\" class=\"data row8 col4\" >5</td>\n",
              "                        <td id=\"T_fa3da4d8_0003_11eb_b99c_0242ac1c0002row8_col5\" class=\"data row8 col5\" >0</td>\n",
              "                        <td id=\"T_fa3da4d8_0003_11eb_b99c_0242ac1c0002row8_col6\" class=\"data row8 col6\" >17</td>\n",
              "                        <td id=\"T_fa3da4d8_0003_11eb_b99c_0242ac1c0002row8_col7\" class=\"data row8 col7\" >3</td>\n",
              "                        <td id=\"T_fa3da4d8_0003_11eb_b99c_0242ac1c0002row8_col8\" class=\"data row8 col8\" >966</td>\n",
              "                        <td id=\"T_fa3da4d8_0003_11eb_b99c_0242ac1c0002row8_col9\" class=\"data row8 col9\" >1</td>\n",
              "            </tr>\n",
              "            <tr>\n",
              "                        <th id=\"T_fa3da4d8_0003_11eb_b99c_0242ac1c0002level0_row9\" class=\"row_heading level0 row9\" >9</th>\n",
              "                        <td id=\"T_fa3da4d8_0003_11eb_b99c_0242ac1c0002row9_col0\" class=\"data row9 col0\" >0</td>\n",
              "                        <td id=\"T_fa3da4d8_0003_11eb_b99c_0242ac1c0002row9_col1\" class=\"data row9 col1\" >0</td>\n",
              "                        <td id=\"T_fa3da4d8_0003_11eb_b99c_0242ac1c0002row9_col2\" class=\"data row9 col2\" >1</td>\n",
              "                        <td id=\"T_fa3da4d8_0003_11eb_b99c_0242ac1c0002row9_col3\" class=\"data row9 col3\" >1</td>\n",
              "                        <td id=\"T_fa3da4d8_0003_11eb_b99c_0242ac1c0002row9_col4\" class=\"data row9 col4\" >1</td>\n",
              "                        <td id=\"T_fa3da4d8_0003_11eb_b99c_0242ac1c0002row9_col5\" class=\"data row9 col5\" >1</td>\n",
              "                        <td id=\"T_fa3da4d8_0003_11eb_b99c_0242ac1c0002row9_col6\" class=\"data row9 col6\" >0</td>\n",
              "                        <td id=\"T_fa3da4d8_0003_11eb_b99c_0242ac1c0002row9_col7\" class=\"data row9 col7\" >2</td>\n",
              "                        <td id=\"T_fa3da4d8_0003_11eb_b99c_0242ac1c0002row9_col8\" class=\"data row9 col8\" >6</td>\n",
              "                        <td id=\"T_fa3da4d8_0003_11eb_b99c_0242ac1c0002row9_col9\" class=\"data row9 col9\" >988</td>\n",
              "            </tr>\n",
              "    </tbody></table>"
            ],
            "text/plain": [
              "<pandas.io.formats.style.Styler at 0x7f82888d4828>"
            ]
          },
          "metadata": {
            "tags": []
          },
          "execution_count": 12
        }
      ]
    },
    {
      "cell_type": "code",
      "metadata": {
        "id": "O8-iWm7kSiGn",
        "outputId": "bc85fb01-b541-4dbc-b3de-09ab88a82367",
        "colab": {
          "base_uri": "https://localhost:8080/",
          "height": 208
        }
      },
      "source": [
        "from sklearn.metrics import confusion_matrix,accuracy_score\n",
        "con_matrix = confusion_matrix(y_test,Prediction)\n",
        "print(con_matrix)\n",
        "accuracy_test = accuracy_score(y_test,Prediction)\n",
        "print(\"accuracy =\",accuracy_test)"
      ],
      "execution_count": null,
      "outputs": [
        {
          "output_type": "stream",
          "text": [
            "[[786  31  46   2  44   0  55   0  36   0]\n",
            " [  4 966  13   0  13   0   2   0   2   0]\n",
            " [  7   4 839   2 103   0  24   0  21   0]\n",
            " [120 353  67 197 233   0  22   0   8   0]\n",
            " [  1   8 233   0 731   0  14   0  13   0]\n",
            " [  1   0   0   0   0 584   3  39 237 136]\n",
            " [176  13 299   1 333   0 107   0  71   0]\n",
            " [  0   0   0   0   0   9   0 603  65 323]\n",
            " [  1   3   3   1   5   0  17   3 966   1]\n",
            " [  0   0   1   1   1   1   0   2   6 988]]\n",
            "accuracy = 0.6767\n"
          ],
          "name": "stdout"
        }
      ]
    },
    {
      "cell_type": "code",
      "metadata": {
        "id": "2TuIbo0rmdVa",
        "outputId": "46fcc89d-b18c-4b85-8b14-9dc48eda59aa",
        "colab": {
          "base_uri": "https://localhost:8080/",
          "height": 225
        }
      },
      "source": [
        "from sklearn.metrics import confusion_matrix,accuracy_score\n",
        "cm = confusion_matrix(y_test,Prediction)\n",
        "cm = pd.DataFrame(cm)\n",
        "cm.style.background_gradient(cmap ='coolwarm')\n",
        "print(cm)\n",
        "accuracy_test = accuracy_score(y_test,Prediction)\n",
        "print(\"accuracy =\",accuracy_test)"
      ],
      "execution_count": null,
      "outputs": [
        {
          "output_type": "stream",
          "text": [
            "     0    1    2    3    4    5    6    7    8    9\n",
            "0  786   31   46    2   44    0   55    0   36    0\n",
            "1    4  966   13    0   13    0    2    0    2    0\n",
            "2    7    4  839    2  103    0   24    0   21    0\n",
            "3  120  353   67  197  233    0   22    0    8    0\n",
            "4    1    8  233    0  731    0   14    0   13    0\n",
            "5    1    0    0    0    0  584    3   39  237  136\n",
            "6  176   13  299    1  333    0  107    0   71    0\n",
            "7    0    0    0    0    0    9    0  603   65  323\n",
            "8    1    3    3    1    5    0   17    3  966    1\n",
            "9    0    0    1    1    1    1    0    2    6  988\n",
            "accuracy = 0.6767\n"
          ],
          "name": "stdout"
        }
      ]
    },
    {
      "cell_type": "code",
      "metadata": {
        "id": "JMdvQonoSuCG",
        "outputId": "8a8197e6-32f8-4c9f-cc20-4a7701850de1",
        "colab": {
          "base_uri": "https://localhost:8080/",
          "height": 312
        }
      },
      "source": [
        "print(metrics.classification_report(y_test, Prediction))"
      ],
      "execution_count": null,
      "outputs": [
        {
          "output_type": "stream",
          "text": [
            "              precision    recall  f1-score   support\n",
            "\n",
            "           0       0.72      0.79      0.75      1000\n",
            "           1       0.70      0.97      0.81      1000\n",
            "           2       0.56      0.84      0.67      1000\n",
            "           3       0.97      0.20      0.33      1000\n",
            "           4       0.50      0.73      0.59      1000\n",
            "           5       0.98      0.58      0.73      1000\n",
            "           6       0.44      0.11      0.17      1000\n",
            "           7       0.93      0.60      0.73      1000\n",
            "           8       0.68      0.97      0.80      1000\n",
            "           9       0.68      0.99      0.81      1000\n",
            "\n",
            "    accuracy                           0.68     10000\n",
            "   macro avg       0.72      0.68      0.64     10000\n",
            "weighted avg       0.72      0.68      0.64     10000\n",
            "\n"
          ],
          "name": "stdout"
        }
      ]
    },
    {
      "cell_type": "code",
      "metadata": {
        "id": "Q5gfJ_7lS4py",
        "outputId": "894b5bd1-f5bf-45fc-d0cc-9d025fb1837a",
        "colab": {
          "base_uri": "https://localhost:8080/",
          "height": 263
        }
      },
      "source": [
        "from sklearn.model_selection import cross_val_score\n",
        "cvs = cross_val_score(lm, X_train, y_train, cv = 3, scoring = 'accuracy')\n",
        "print (cvs)"
      ],
      "execution_count": null,
      "outputs": [
        {
          "output_type": "stream",
          "text": [
            "/usr/local/lib/python3.6/dist-packages/sklearn/utils/validation.py:760: DataConversionWarning: A column-vector y was passed when a 1d array was expected. Please change the shape of y to (n_samples, ), for example using ravel().\n",
            "  y = column_or_1d(y, warn=True)\n",
            "/usr/local/lib/python3.6/dist-packages/sklearn/linear_model/_stochastic_gradient.py:557: ConvergenceWarning: Maximum number of iteration reached before convergence. Consider increasing max_iter to improve the fit.\n",
            "  ConvergenceWarning)\n",
            "/usr/local/lib/python3.6/dist-packages/sklearn/utils/validation.py:760: DataConversionWarning: A column-vector y was passed when a 1d array was expected. Please change the shape of y to (n_samples, ), for example using ravel().\n",
            "  y = column_or_1d(y, warn=True)\n",
            "/usr/local/lib/python3.6/dist-packages/sklearn/linear_model/_stochastic_gradient.py:557: ConvergenceWarning: Maximum number of iteration reached before convergence. Consider increasing max_iter to improve the fit.\n",
            "  ConvergenceWarning)\n",
            "/usr/local/lib/python3.6/dist-packages/sklearn/utils/validation.py:760: DataConversionWarning: A column-vector y was passed when a 1d array was expected. Please change the shape of y to (n_samples, ), for example using ravel().\n",
            "  y = column_or_1d(y, warn=True)\n"
          ],
          "name": "stderr"
        },
        {
          "output_type": "stream",
          "text": [
            "[0.83035 0.83545 0.83725]\n"
          ],
          "name": "stdout"
        },
        {
          "output_type": "stream",
          "text": [
            "/usr/local/lib/python3.6/dist-packages/sklearn/linear_model/_stochastic_gradient.py:557: ConvergenceWarning: Maximum number of iteration reached before convergence. Consider increasing max_iter to improve the fit.\n",
            "  ConvergenceWarning)\n"
          ],
          "name": "stderr"
        }
      ]
    },
    {
      "cell_type": "code",
      "metadata": {
        "id": "n9yrTV0jUjie",
        "outputId": "fc32a978-01ba-42ef-a452-8fbdf1a011bc",
        "colab": {
          "base_uri": "https://localhost:8080/",
          "height": 69
        }
      },
      "source": [
        "print('Score on Test Data ',' '*5, '%0.2f' %(lm.score(X_test, y_test)))\n",
        "print('RMSE               ',' '*5, '%0.2f' %(np.sqrt(metrics.mean_squared_error(y_test, Prediction))))\n",
        "print('Mean Absolute Error',' '*5, '%0.2f' %(metrics.mean_absolute_error(y_test, Prediction)))"
      ],
      "execution_count": null,
      "outputs": [
        {
          "output_type": "stream",
          "text": [
            "Score on Test Data        0.68\n",
            "RMSE                      1.77\n",
            "Mean Absolute Error       42.78\n"
          ],
          "name": "stdout"
        }
      ]
    },
    {
      "cell_type": "markdown",
      "metadata": {
        "id": "TySdlnOpX3a2"
      },
      "source": [
        "# SVC"
      ]
    },
    {
      "cell_type": "code",
      "metadata": {
        "id": "jIEMtkbcD8j8",
        "outputId": "4e847bea-c6e4-4b9a-d422-741120157e05",
        "colab": {
          "base_uri": "https://localhost:8080/",
          "height": 800
        }
      },
      "source": [
        "from sklearn.svm import SVC\n",
        "from sklearn import metrics\n",
        "lm = SVC()\n",
        "lm.fit(X_train, y_train)\n",
        "predictions = lm.predict(X_test)\n",
        "print(predictions)\n",
        "con_matrix = pd.DataFrame(metrics.confusion_matrix(y_test, predictions))\n",
        "print(con_matrix)\n",
        "print('Classification metrics for SVC classifier')\n",
        "print()\n",
        "print('Score on Test Data ',' '*5, '%0.2f' %(lm.score(X_test, y_test)))\n",
        "print('RMSE               ',' '*5, '%0.2f' %(np.sqrt(metrics.mean_squared_error(y_test, predictions))))\n",
        "print('Mean Absolute Error',' '*5, '%0.2f' %(metrics.mean_absolute_error(y_test, predictions)))\n",
        "print()\n",
        "print(\"Classification report\")\n",
        "print()\n",
        "print(con_matrix.style.background_gradient(cmap='coolwarm'))\n",
        "print()\n",
        "print((metrics.classification_report(y_test, predictions)))\n",
        "print()"
      ],
      "execution_count": null,
      "outputs": [
        {
          "output_type": "stream",
          "text": [
            "/usr/local/lib/python3.6/dist-packages/sklearn/utils/validation.py:760: DataConversionWarning: A column-vector y was passed when a 1d array was expected. Please change the shape of y to (n_samples, ), for example using ravel().\n",
            "  y = column_or_1d(y, warn=True)\n"
          ],
          "name": "stderr"
        },
        {
          "output_type": "stream",
          "text": [
            "[8 8 8 ... 8 8 8]\n",
            "   0  1  2  3  4  5  6  7     8  9\n",
            "0  0  0  0  0  0  0  0  0  1000  0\n",
            "1  0  0  0  0  0  0  0  0  1000  0\n",
            "2  0  0  0  0  0  0  0  0  1000  0\n",
            "3  0  0  0  0  0  0  0  0  1000  0\n",
            "4  0  0  0  0  0  0  0  0  1000  0\n",
            "5  0  0  0  0  0  0  0  0  1000  0\n",
            "6  0  0  0  0  0  0  0  0  1000  0\n",
            "7  0  0  0  0  0  0  0  0  1000  0\n",
            "8  0  0  0  0  0  0  0  0  1000  0\n",
            "9  0  0  0  0  0  0  0  0  1000  0\n",
            "Classification metrics for SVC classifier\n",
            "\n",
            "Score on Test Data        0.10\n",
            "RMSE                      4.53\n",
            "Mean Absolute Error       29.10\n",
            "\n",
            "Classification report\n",
            "\n",
            "<pandas.io.formats.style.Styler object at 0x7f8247e7ce48>\n",
            "\n",
            "              precision    recall  f1-score   support\n",
            "\n",
            "           0       0.00      0.00      0.00      1000\n",
            "           1       0.00      0.00      0.00      1000\n",
            "           2       0.00      0.00      0.00      1000\n",
            "           3       0.00      0.00      0.00      1000\n",
            "           4       0.00      0.00      0.00      1000\n",
            "           5       0.00      0.00      0.00      1000\n",
            "           6       0.00      0.00      0.00      1000\n",
            "           7       0.00      0.00      0.00      1000\n",
            "           8       0.10      1.00      0.18      1000\n",
            "           9       0.00      0.00      0.00      1000\n",
            "\n",
            "    accuracy                           0.10     10000\n",
            "   macro avg       0.01      0.10      0.02     10000\n",
            "weighted avg       0.01      0.10      0.02     10000\n",
            "\n",
            "\n"
          ],
          "name": "stdout"
        },
        {
          "output_type": "stream",
          "text": [
            "/usr/local/lib/python3.6/dist-packages/sklearn/metrics/_classification.py:1272: UndefinedMetricWarning: Precision and F-score are ill-defined and being set to 0.0 in labels with no predicted samples. Use `zero_division` parameter to control this behavior.\n",
            "  _warn_prf(average, modifier, msg_start, len(result))\n"
          ],
          "name": "stderr"
        }
      ]
    },
    {
      "cell_type": "code",
      "metadata": {
        "id": "8QLc9eWTX7Zn",
        "outputId": "b74a0dd7-b15f-40dd-d568-174b06ea47d8",
        "colab": {
          "base_uri": "https://localhost:8080/",
          "height": 765
        }
      },
      "source": [
        "from sklearn.tree import DecisionTreeClassifier\n",
        "from sklearn import metrics\n",
        "lm = DecisionTreeClassifier()\n",
        "lm.fit(X_train, y_train)\n",
        "predictions = lm.predict(X_test)\n",
        "print(predictions)\n",
        "con_matrix = pd.DataFrame(metrics.confusion_matrix(y_test, predictions))\n",
        "print(con_matrix)\n",
        "print('Classification metrics for DecisionTreeClassifier')\n",
        "print()\n",
        "print('Score on Test Data ',' '*5, '%0.2f' %(lm.score(X_test, y_test)))\n",
        "print('RMSE               ',' '*5, '%0.2f' %(np.sqrt(metrics.mean_squared_error(y_test, predictions))))\n",
        "print('Mean Absolute Error',' '*5, '%0.2f' %(metrics.mean_absolute_error(y_test, predictions)))\n",
        "print()\n",
        "print(\"Classification report\")\n",
        "print()\n",
        "print(con_matrix.style.background_gradient(cmap='coolwarm'))\n",
        "print()\n",
        "print((metrics.classification_report(y_test, predictions)))\n",
        "print()"
      ],
      "execution_count": null,
      "outputs": [
        {
          "output_type": "stream",
          "text": [
            "[8 2 0 ... 2 2 8]\n",
            "     0  1    2  3    4  5    6  7    8    9\n",
            "0  143  0  287  0  406  0   67  0   88    9\n",
            "1  817  0  133  0    0  0   50  0    0    0\n",
            "2   47  0  759  0   20  0   63  0   10  101\n",
            "3  451  0  431  0   17  0   95  0    5    1\n",
            "4   46  0  788  0   14  0   83  0    2   67\n",
            "5    6  0   89  0   14  0  102  0  781    8\n",
            "6  110  0  629  0   71  0   53  0   46   91\n",
            "7    0  0    6  0    2  0   17  0  975    0\n",
            "8   35  0  501  0   12  0   45  0  406    1\n",
            "9   15  0   59  0    7  0   63  0  844   12\n",
            "Classification metrics for DecisionTreeClassifier\n",
            "\n",
            "Score on Test Data        0.14\n",
            "RMSE                      2.96\n",
            "Mean Absolute Error       130.32\n",
            "\n",
            "Classification report\n",
            "\n",
            "<pandas.io.formats.style.Styler object at 0x7f8247e7c7b8>\n",
            "\n",
            "              precision    recall  f1-score   support\n",
            "\n",
            "           0       0.09      0.14      0.11      1000\n",
            "           1       0.00      0.00      0.00      1000\n",
            "           2       0.21      0.76      0.32      1000\n",
            "           3       0.00      0.00      0.00      1000\n",
            "           4       0.02      0.01      0.02      1000\n",
            "           5       0.00      0.00      0.00      1000\n",
            "           6       0.08      0.05      0.06      1000\n",
            "           7       0.00      0.00      0.00      1000\n",
            "           8       0.13      0.41      0.20      1000\n",
            "           9       0.04      0.01      0.02      1000\n",
            "\n",
            "    accuracy                           0.14     10000\n",
            "   macro avg       0.06      0.14      0.07     10000\n",
            "weighted avg       0.06      0.14      0.07     10000\n",
            "\n",
            "\n"
          ],
          "name": "stdout"
        },
        {
          "output_type": "stream",
          "text": [
            "/usr/local/lib/python3.6/dist-packages/sklearn/metrics/_classification.py:1272: UndefinedMetricWarning: Precision and F-score are ill-defined and being set to 0.0 in labels with no predicted samples. Use `zero_division` parameter to control this behavior.\n",
            "  _warn_prf(average, modifier, msg_start, len(result))\n"
          ],
          "name": "stderr"
        }
      ]
    }
  ]
}